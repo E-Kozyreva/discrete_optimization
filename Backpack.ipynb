{
 "cells": [
  {
   "cell_type": "code",
   "execution_count": 1,
   "metadata": {},
   "outputs": [],
   "source": [
    "from collections import namedtuple\n",
    "from functools import lru_cache"
   ]
  },
  {
   "cell_type": "code",
   "execution_count": 2,
   "metadata": {},
   "outputs": [],
   "source": [
    "Item = namedtuple('Item', 'value weight')\n",
    "items = Item(4, 5), Item(3, 4), Item(3, 2), Item(2, 1) \n",
    "capacity = 6"
   ]
  },
  {
   "cell_type": "code",
   "execution_count": 3,
   "metadata": {},
   "outputs": [],
   "source": [
    "@lru_cache(maxsize=None)\n",
    "def best_value(nitems: list, weight_limit: int) -> int:\n",
    "    \"\"\"\n",
    "    Рекурсивная функция для нахождения максимальной стоимости рюкзака\n",
    "    :param nitems: количество предметов\n",
    "    :param weight_limit: максимальный вес\n",
    "    :return: максимальная стоимость рюкзака\n",
    "    \"\"\"\n",
    "\n",
    "    if nitems == 0:\n",
    "        return 0\n",
    "    elif items[nitems - 1].weight > weight_limit:\n",
    "        return best_value(nitems - 1, weight_limit)\n",
    "    else:\n",
    "        return max(\n",
    "            best_value(nitems - 1, weight_limit),\n",
    "            best_value(nitems - 1, weight_limit - items[nitems - 1].weight)\n",
    "            + items[nitems - 1].value)"
   ]
  },
  {
   "cell_type": "markdown",
   "metadata": {},
   "source": [
    "### Пример"
   ]
  },
  {
   "cell_type": "code",
   "execution_count": 4,
   "metadata": {},
   "outputs": [
    {
     "name": "stdout",
     "output_type": "stream",
     "text": [
      "[Item(value=3, weight=2), Item(value=3, weight=4)]\n",
      "CacheInfo(hits=9, misses=21, maxsize=None, currsize=21)\n"
     ]
    }
   ],
   "source": [
    "result = []\n",
    "weight_limit = capacity\n",
    "\n",
    "for i in reversed(range(len(items))):\n",
    "    if best_value(i + 1, weight_limit) > best_value(i, weight_limit):\n",
    "        result.append(items[i])\n",
    "        weight_limit -= items[i].weight\n",
    "\n",
    "print(result)\n",
    "print(best_value.cache_info())"
   ]
  },
  {
   "cell_type": "markdown",
   "metadata": {},
   "source": [
    "### Пояснение результата"
   ]
  },
  {
   "cell_type": "markdown",
   "metadata": {},
   "source": [
    "Решение задачи рюкзака для предоставленных предметов и максимальной грузоподъемности равно 6 единицам. Последовательность предметов, которые можно поместить в рюкзак с максимальным общим значением, включает предметы со значениями (3, 2) и (3, 4), что в сумме составляет значение 6 при общем весе 6."
   ]
  }
 ],
 "metadata": {
  "kernelspec": {
   "display_name": "base",
   "language": "python",
   "name": "python3"
  },
  "language_info": {
   "codemirror_mode": {
    "name": "ipython",
    "version": 3
   },
   "file_extension": ".py",
   "mimetype": "text/x-python",
   "name": "python",
   "nbconvert_exporter": "python",
   "pygments_lexer": "ipython3",
   "version": "3.11.5"
  }
 },
 "nbformat": 4,
 "nbformat_minor": 2
}
